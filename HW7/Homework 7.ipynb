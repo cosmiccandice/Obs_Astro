{
 "cells": [
  {
   "cell_type": "markdown",
   "metadata": {},
   "source": [
    "# Analyzing Transient CSS161010\n",
    "\n",
    "The Coordinates (right ascension and declination) of an astronomical transient discovered at optic al wavelengths are : RA= 04:58:34.409 (hr: minutes: seconds) dec= -08:18:03.98 (deg: arcmin : arcsec)\n",
    "We observed the transient with Chandra. Retrieve and analyze the Chandra data with ID= 19984. \n",
    "\n",
    "Supernova Catalog: https://sne.space/sne/CSS161010:045834-081803/\n",
    "\n",
    "Data can be retreived from: https://cda.harvard.edu/chaser/mainEntry.do with ID=19984\n",
    "\n",
    "### Goal:  is this transient detected in the X-rays by Chandra?"
   ]
  },
  {
   "cell_type": "code",
   "execution_count": 1,
   "metadata": {},
   "outputs": [],
   "source": [
    "from astropy.io import fits\n",
    "import pandas as pd\n",
    "import matplotlib.pyplot as plt\n",
    "from astropy.time import Time\n",
    "import numpy as np\n",
    "import math\n",
    "plt.style.use('default')"
   ]
  },
  {
   "cell_type": "markdown",
   "metadata": {},
   "source": [
    "# ------------------------------------ Functions ------------------------------------"
   ]
  },
  {
   "cell_type": "markdown",
   "metadata": {},
   "source": [
    "### Read Fits File"
   ]
  },
  {
   "cell_type": "code",
   "execution_count": 2,
   "metadata": {},
   "outputs": [],
   "source": [
    "def read_fits(fits_file,txt_file,column): \n",
    "    hdulist = fits.open(fits_file)\n",
    "    #hdulist.info() \n",
    "    tbdata = hdulist[1].data\n",
    "    \n",
    "    f=open(txt_file,'w+')\n",
    "    \n",
    "    c=[]\n",
    "    for i in range(len(column)): \n",
    "        c.append(tbdata.field(column[i])) \n",
    "\n",
    "    #f.write(column_head)\n",
    "    print (len(c[1]))\n",
    "\n",
    "    if len(column) == 2:\n",
    "        for i in range(len(c[0])):\n",
    "            f.write('%e,%e\\r\\n'%(c[0][i],c[0][i]))\n",
    "                \n",
    "    if len(column)== 3: \n",
    "        for i in range(len(c[0])):\n",
    "          \n",
    "            f.write('%e,%e,%e\\r\\n'%(c[0][i],c[1][i],c[2][i]))\n",
    "\n",
    "    if len(column)== 4: \n",
    "        for i in range(len(c[0])):\n",
    "          \n",
    "            f.write('%e,%e,%e,%e\\r\\n'%(c[0][i],c[1][i],c[2][i],c[3][i]))\n",
    "                \n",
    "\n",
    "    df = pd.read_csv(txt_file ,sep=\",\", header=None, names=column)\n",
    "\n",
    "    hdulist.close()\n",
    "    \n",
    "    return df"
   ]
  },
  {
   "cell_type": "markdown",
   "metadata": {},
   "source": [
    "### Read in Fits File and Convert to Text"
   ]
  },
  {
   "cell_type": "code",
   "execution_count": 3,
   "metadata": {},
   "outputs": [],
   "source": [
    "# read_fits(fits_file= '19984/primary/acisf19984N002_evt2.fits',\n",
    "#           txt_file = '19984_source.txt', \n",
    "#           column = ['detx','dety','energy']) "
   ]
  },
  {
   "cell_type": "markdown",
   "metadata": {},
   "source": [
    "### Count Photons in a Region"
   ]
  },
  {
   "cell_type": "code",
   "execution_count": 4,
   "metadata": {},
   "outputs": [],
   "source": [
    "def ph_count(region_type,textfile,x_pos,y_pos,reg,e1,e2):\n",
    "    coord_list = []\n",
    "    with open(textfile) as f:\n",
    "         for row in f:\n",
    "            if not row.startswith(\"#\"):\n",
    "                coord_list.append(map(float, row.split(',')))\n",
    "    points = [(x,y,z) for (x,y,z) in coord_list if ((x-x_pos)**2 + (y-y_pos)**2) <= reg**2 and e1<=z<=e2]\n",
    "    count = len(points)\n",
    "    \n",
    "    text = print ('Photon Count in', region_type ,'region with energy',(e1/1000),'-',(e2/1000),'keV' ,'Energy Contraint = ', count,' photons') \n",
    "    return count,text "
   ]
  },
  {
   "cell_type": "markdown",
   "metadata": {},
   "source": [
    "###  POISSON STATISTICS: Photons w 3$\\sigma$ detection assuming\n",
    "$e^{-y}  \\sum_{0}^{x} \\frac{y^{x}}{x!} > P $ where P =  1-.003 = .997 to get detection to 3sigma"
   ]
  },
  {
   "cell_type": "code",
   "execution_count": 5,
   "metadata": {},
   "outputs": [],
   "source": [
    "def poisson(k,y): # k = source, y=expected\n",
    "    def sigma_sum(start, end, expression):\n",
    "        return sum(expression(i) for i in range(start, end))\n",
    "\n",
    "    summ = []\n",
    "    summ.append(sigma_sum(0, k, lambda k: np.exp(-y)*(y**k)/(math.factorial(k)) )) \n",
    "    summ = (summ[0]) \n",
    "\n",
    "    sum_rounded = round(summ,3) \n",
    "\n",
    "    if sum_rounded >=  .997:\n",
    "        tf = ('DETECTION -- p = 0.997 < or = limit (' +(str(sum_rounded)) +')') \n",
    "    else:\n",
    "        tf =  ('NO DETECTION -- p = 0.997 > limit (' +(str(sum_rounded))+')') \n",
    "    \n",
    "\n",
    "    return tf,sum_rounded"
   ]
  },
  {
   "cell_type": "markdown",
   "metadata": {},
   "source": [
    "### Minimum Number of Photons Needed for 3$\\sigma$ Detection"
   ]
  },
  {
   "cell_type": "code",
   "execution_count": 6,
   "metadata": {},
   "outputs": [],
   "source": [
    "def min_phot(y,xmax):\n",
    "    k_val = []\n",
    "    for k in range(0,xmax): #maximum amount of x values you want to go through \n",
    "        if poisson(k,y)[1] >= .997:\n",
    "           k_val.append(k)\n",
    "        \n",
    "    k = k_val[0]\n",
    "    min_photons =print ('Minimum number of photons to claim a 3sigma detection: ' + str(k) +' photons') \n",
    "    return min_photons"
   ]
  },
  {
   "cell_type": "markdown",
   "metadata": {},
   "source": [
    "# ------------------------------------- Analysis -------------------------------------\n",
    "\n",
    "START (UT): 2017-01-13T23:13:05\n",
    "\n",
    "STOP (UT) : 2017-01-14T07:59:33\n",
    "\n",
    "Exposure(KS:2.965E4 ks"
   ]
  },
  {
   "cell_type": "markdown",
   "metadata": {},
   "source": [
    "## -------------------------------------------- .5-8 keV -------------------------------------------- "
   ]
  },
  {
   "cell_type": "code",
   "execution_count": 7,
   "metadata": {},
   "outputs": [],
   "source": [
    "bckg_reg = 61 #arcsec, a region much larger than the source region, but not close the edge of any of the ccds\n",
    "src_reg  = 6.1 #arcsec"
   ]
  },
  {
   "cell_type": "markdown",
   "metadata": {},
   "source": [
    "#### a) Filter Energy for Background Region"
   ]
  },
  {
   "cell_type": "code",
   "execution_count": 8,
   "metadata": {},
   "outputs": [
    {
     "name": "stdout",
     "output_type": "stream",
     "text": [
      "Photon Count in background region with energy 0.5 - 8.0 keV Energy Contraint =  224  photons\n"
     ]
    }
   ],
   "source": [
    "bkg = ph_count('background','19984_source.txt',4067.1958,4090.2618,bckg_reg,.5e3,8e3) "
   ]
  },
  {
   "cell_type": "markdown",
   "metadata": {},
   "source": [
    "#### b) Actual Photons in Source Region"
   ]
  },
  {
   "cell_type": "code",
   "execution_count": 9,
   "metadata": {},
   "outputs": [
    {
     "name": "stdout",
     "output_type": "stream",
     "text": [
      "Photon Count in source region with energy 0.5 - 8.0 keV Energy Contraint =  3  photons\n"
     ]
    }
   ],
   "source": [
    "actual_src = ph_count('source','19984_source.txt',4067.1958,4090.2618,src_reg,.5e3,8e3)[0]"
   ]
  },
  {
   "cell_type": "markdown",
   "metadata": {},
   "source": [
    "#### c) Expected Photons Source Region"
   ]
  },
  {
   "cell_type": "code",
   "execution_count": 10,
   "metadata": {},
   "outputs": [
    {
     "name": "stdout",
     "output_type": "stream",
     "text": [
      "expected source from background =  2.2399999999999998 photons\n"
     ]
    }
   ],
   "source": [
    "norm_bkg = (bkg[0]) * ((src_reg**2)/(bckg_reg**2)) \n",
    "print ('expected source from background = ',norm_bkg,'photons')"
   ]
  },
  {
   "cell_type": "markdown",
   "metadata": {},
   "source": [
    "#### d) Minimum Amount of Photons to Get Detection"
   ]
  },
  {
   "cell_type": "code",
   "execution_count": 11,
   "metadata": {},
   "outputs": [
    {
     "name": "stdout",
     "output_type": "stream",
     "text": [
      "Minimum number of photons to claim a 3sigma detection: 8 photons\n"
     ]
    }
   ],
   "source": [
    "min_phot(norm_bkg,50)"
   ]
  },
  {
   "cell_type": "markdown",
   "metadata": {},
   "source": [
    "#### e) Detection?"
   ]
  },
  {
   "cell_type": "code",
   "execution_count": 12,
   "metadata": {},
   "outputs": [
    {
     "data": {
      "text/plain": [
       "'NO DETECTION -- p = 0.997 > limit (0.612)'"
      ]
     },
     "execution_count": 12,
     "metadata": {},
     "output_type": "execute_result"
    }
   ],
   "source": [
    "poisson(actual_src,norm_bkg)[0]"
   ]
  },
  {
   "cell_type": "markdown",
   "metadata": {},
   "source": [
    "## -------------------------------------------- 1-3 keV -------------------------------------------- \n",
    "#### a) Filter Energy for Background Region"
   ]
  },
  {
   "cell_type": "code",
   "execution_count": 13,
   "metadata": {},
   "outputs": [
    {
     "name": "stdout",
     "output_type": "stream",
     "text": [
      "Photon Count in background region with energy 1.0 - 3.0 keV Energy Contraint =  72  photons\n"
     ]
    }
   ],
   "source": [
    "bkg = ph_count('background','19984_source.txt',4067.1309,4090.2618,bckg_reg,1e3,3e3)"
   ]
  },
  {
   "cell_type": "markdown",
   "metadata": {},
   "source": [
    "#### b) Actual Photons in Source Region"
   ]
  },
  {
   "cell_type": "code",
   "execution_count": 14,
   "metadata": {},
   "outputs": [
    {
     "name": "stdout",
     "output_type": "stream",
     "text": [
      "Photon Count in source region with energy 1.0 - 3.0 keV Energy Contraint =  1  photons\n"
     ]
    }
   ],
   "source": [
    "actual_src = ph_count('source','19984_source.txt',4067.1309,4090.2618,src_reg,1e3,3e3)[0]"
   ]
  },
  {
   "cell_type": "markdown",
   "metadata": {},
   "source": [
    "#### c) Expected Phtons in Source Region"
   ]
  },
  {
   "cell_type": "code",
   "execution_count": 15,
   "metadata": {},
   "outputs": [
    {
     "name": "stdout",
     "output_type": "stream",
     "text": [
      "expected source from background =  0.72 photons\n"
     ]
    }
   ],
   "source": [
    "norm_bkg = (bkg[0]/bckg_reg**2) *(src_reg**2)\n",
    "print ('expected source from background = ',norm_bkg,'photons')"
   ]
  },
  {
   "cell_type": "markdown",
   "metadata": {},
   "source": [
    "#### d) Minimum Amount of Photons to Get Detection\n"
   ]
  },
  {
   "cell_type": "code",
   "execution_count": 16,
   "metadata": {},
   "outputs": [
    {
     "name": "stdout",
     "output_type": "stream",
     "text": [
      "Minimum number of photons to claim a 3sigma detection: 5 photons\n"
     ]
    }
   ],
   "source": [
    "min_phot(norm_bkg,50)"
   ]
  },
  {
   "cell_type": "markdown",
   "metadata": {},
   "source": [
    "#### e) Detection?"
   ]
  },
  {
   "cell_type": "code",
   "execution_count": 17,
   "metadata": {},
   "outputs": [
    {
     "data": {
      "text/plain": [
       "'NO DETECTION -- p = 0.997 > limit (0.487)'"
      ]
     },
     "execution_count": 17,
     "metadata": {},
     "output_type": "execute_result"
    }
   ],
   "source": [
    "poisson(actual_src,norm_bkg)[0]"
   ]
  }
 ],
 "metadata": {
  "kernelspec": {
   "display_name": "Python 3",
   "language": "python",
   "name": "python3"
  },
  "language_info": {
   "codemirror_mode": {
    "name": "ipython",
    "version": 3
   },
   "file_extension": ".py",
   "mimetype": "text/x-python",
   "name": "python",
   "nbconvert_exporter": "python",
   "pygments_lexer": "ipython3",
   "version": "3.7.4"
  }
 },
 "nbformat": 4,
 "nbformat_minor": 2
}
